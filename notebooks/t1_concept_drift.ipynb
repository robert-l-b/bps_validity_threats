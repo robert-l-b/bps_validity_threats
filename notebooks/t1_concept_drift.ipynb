{
 "cells": [
  {
   "cell_type": "markdown",
   "metadata": {},
   "source": [
    "# T1: Concept Drift\n",
    "\n",
    "## Helpdesk Experiment"
   ]
  },
  {
   "cell_type": "code",
   "execution_count": 12,
   "metadata": {},
   "outputs": [],
   "source": [
    "import pm4py\n",
    "import os\n",
    "import sys\n",
    "import pandas as pd\n",
    "import matplotlib.pyplot as plt\n",
    "import seaborn as sns\n",
    "\n",
    "\n",
    "from utils import *"
   ]
  },
  {
   "cell_type": "markdown",
   "metadata": {},
   "source": [
    "## Preparation"
   ]
  },
  {
   "cell_type": "code",
   "execution_count": 13,
   "metadata": {},
   "outputs": [],
   "source": [
    "log_path = os.path.join('..', 'data', 'full_logs', 'Helpdesk.xes')\n",
    "target_dir_path = os.path.join('..', 'data', 'input_data', 'threats', 'helpdesk_two_scenarios_intermediate')\n",
    "os.makedirs(target_dir_path, exist_ok=True)"
   ]
  },
  {
   "cell_type": "code",
   "execution_count": 14,
   "metadata": {},
   "outputs": [
    {
     "name": "stderr",
     "output_type": "stream",
     "text": [
      "parsing log, completed traces :: 100%|██████████| 4580/4580 [00:00<00:00, 8925.13it/s] \n"
     ]
    }
   ],
   "source": [
    "log = pm4py.read_xes(log_path)\n"
   ]
  },
  {
   "cell_type": "code",
   "execution_count": 15,
   "metadata": {},
   "outputs": [
    {
     "data": {
      "text/html": [
       "<div>\n",
       "<style scoped>\n",
       "    .dataframe tbody tr th:only-of-type {\n",
       "        vertical-align: middle;\n",
       "    }\n",
       "\n",
       "    .dataframe tbody tr th {\n",
       "        vertical-align: top;\n",
       "    }\n",
       "\n",
       "    .dataframe thead th {\n",
       "        text-align: right;\n",
       "    }\n",
       "</style>\n",
       "<table border=\"1\" class=\"dataframe\">\n",
       "  <thead>\n",
       "    <tr style=\"text-align: right;\">\n",
       "      <th></th>\n",
       "      <th>concept:name</th>\n",
       "      <th>lifecycle:transition</th>\n",
       "      <th>org:resource</th>\n",
       "      <th>time:timestamp</th>\n",
       "      <th>Activity</th>\n",
       "      <th>Resource</th>\n",
       "      <th>case:concept:name</th>\n",
       "      <th>case:variant</th>\n",
       "      <th>case:variant-index</th>\n",
       "      <th>case:creator</th>\n",
       "    </tr>\n",
       "  </thead>\n",
       "  <tbody>\n",
       "    <tr>\n",
       "      <th>0</th>\n",
       "      <td>Assign seriousness</td>\n",
       "      <td>complete</td>\n",
       "      <td>Value 1</td>\n",
       "      <td>2012-10-09 14:50:17+00:00</td>\n",
       "      <td>Assign seriousness</td>\n",
       "      <td>Value 1</td>\n",
       "      <td>Case1</td>\n",
       "      <td>Variant 12</td>\n",
       "      <td>12</td>\n",
       "      <td>Fluxicon Disco</td>\n",
       "    </tr>\n",
       "    <tr>\n",
       "      <th>1</th>\n",
       "      <td>Take in charge ticket</td>\n",
       "      <td>complete</td>\n",
       "      <td>Value 1</td>\n",
       "      <td>2012-10-09 14:51:01+00:00</td>\n",
       "      <td>Take in charge ticket</td>\n",
       "      <td>Value 1</td>\n",
       "      <td>Case1</td>\n",
       "      <td>Variant 12</td>\n",
       "      <td>12</td>\n",
       "      <td>Fluxicon Disco</td>\n",
       "    </tr>\n",
       "    <tr>\n",
       "      <th>2</th>\n",
       "      <td>Take in charge ticket</td>\n",
       "      <td>complete</td>\n",
       "      <td>Value 2</td>\n",
       "      <td>2012-10-12 15:02:56+00:00</td>\n",
       "      <td>Take in charge ticket</td>\n",
       "      <td>Value 2</td>\n",
       "      <td>Case1</td>\n",
       "      <td>Variant 12</td>\n",
       "      <td>12</td>\n",
       "      <td>Fluxicon Disco</td>\n",
       "    </tr>\n",
       "    <tr>\n",
       "      <th>3</th>\n",
       "      <td>Resolve ticket</td>\n",
       "      <td>complete</td>\n",
       "      <td>Value 1</td>\n",
       "      <td>2012-10-25 11:54:26+00:00</td>\n",
       "      <td>Resolve ticket</td>\n",
       "      <td>Value 1</td>\n",
       "      <td>Case1</td>\n",
       "      <td>Variant 12</td>\n",
       "      <td>12</td>\n",
       "      <td>Fluxicon Disco</td>\n",
       "    </tr>\n",
       "    <tr>\n",
       "      <th>4</th>\n",
       "      <td>Closed</td>\n",
       "      <td>complete</td>\n",
       "      <td>Value 3</td>\n",
       "      <td>2012-11-09 12:54:39+00:00</td>\n",
       "      <td>Closed</td>\n",
       "      <td>Value 3</td>\n",
       "      <td>Case1</td>\n",
       "      <td>Variant 12</td>\n",
       "      <td>12</td>\n",
       "      <td>Fluxicon Disco</td>\n",
       "    </tr>\n",
       "  </tbody>\n",
       "</table>\n",
       "</div>"
      ],
      "text/plain": [
       "            concept:name lifecycle:transition org:resource  \\\n",
       "0     Assign seriousness             complete      Value 1   \n",
       "1  Take in charge ticket             complete      Value 1   \n",
       "2  Take in charge ticket             complete      Value 2   \n",
       "3         Resolve ticket             complete      Value 1   \n",
       "4                 Closed             complete      Value 3   \n",
       "\n",
       "             time:timestamp               Activity Resource case:concept:name  \\\n",
       "0 2012-10-09 14:50:17+00:00     Assign seriousness  Value 1             Case1   \n",
       "1 2012-10-09 14:51:01+00:00  Take in charge ticket  Value 1             Case1   \n",
       "2 2012-10-12 15:02:56+00:00  Take in charge ticket  Value 2             Case1   \n",
       "3 2012-10-25 11:54:26+00:00         Resolve ticket  Value 1             Case1   \n",
       "4 2012-11-09 12:54:39+00:00                 Closed  Value 3             Case1   \n",
       "\n",
       "  case:variant  case:variant-index    case:creator  \n",
       "0   Variant 12                  12  Fluxicon Disco  \n",
       "1   Variant 12                  12  Fluxicon Disco  \n",
       "2   Variant 12                  12  Fluxicon Disco  \n",
       "3   Variant 12                  12  Fluxicon Disco  \n",
       "4   Variant 12                  12  Fluxicon Disco  "
      ]
     },
     "execution_count": 15,
     "metadata": {},
     "output_type": "execute_result"
    }
   ],
   "source": [
    "log.head(5)"
   ]
  },
  {
   "cell_type": "code",
   "execution_count": 16,
   "metadata": {},
   "outputs": [],
   "source": [
    "# Since simulation approaches require activity start timestamp: \n",
    "# Apply simplest heuristic of start times: set them equal to end time\n",
    "log['start_timestamp'] = log['time:timestamp']\n",
    "log['end_timestamp']   = log['time:timestamp']\n",
    "log = log.drop('time:timestamp', axis=1)\n"
   ]
  },
  {
   "cell_type": "markdown",
   "metadata": {},
   "source": [
    "## Investigate and display drift"
   ]
  },
  {
   "cell_type": "markdown",
   "metadata": {},
   "source": [
    "#### Helper functions"
   ]
  },
  {
   "cell_type": "code",
   "execution_count": 17,
   "metadata": {},
   "outputs": [
    {
     "name": "stderr",
     "output_type": "stream",
     "text": [
      "/var/folders/x1/w2d1_9vs4497b2lw430zv8h40000gn/T/ipykernel_44631/2072074133.py:14: FutureWarning: 'M' is deprecated and will be removed in a future version, please use 'ME' instead.\n",
      "  arrival_count_resampled = arriving_cases.resample(freq).size()\n"
     ]
    },
    {
     "data": {
      "text/html": [
       "<div>\n",
       "<style scoped>\n",
       "    .dataframe tbody tr th:only-of-type {\n",
       "        vertical-align: middle;\n",
       "    }\n",
       "\n",
       "    .dataframe tbody tr th {\n",
       "        vertical-align: top;\n",
       "    }\n",
       "\n",
       "    .dataframe thead th {\n",
       "        text-align: right;\n",
       "    }\n",
       "</style>\n",
       "<table border=\"1\" class=\"dataframe\">\n",
       "  <thead>\n",
       "    <tr style=\"text-align: right;\">\n",
       "      <th></th>\n",
       "      <th>start_timestamp</th>\n",
       "      <th>Arrival Count</th>\n",
       "    </tr>\n",
       "  </thead>\n",
       "  <tbody>\n",
       "    <tr>\n",
       "      <th>0</th>\n",
       "      <td>2010-01-31 00:00:00+00:00</td>\n",
       "      <td>22</td>\n",
       "    </tr>\n",
       "    <tr>\n",
       "      <th>1</th>\n",
       "      <td>2010-02-28 00:00:00+00:00</td>\n",
       "      <td>55</td>\n",
       "    </tr>\n",
       "  </tbody>\n",
       "</table>\n",
       "</div>"
      ],
      "text/plain": [
       "            start_timestamp  Arrival Count\n",
       "0 2010-01-31 00:00:00+00:00             22\n",
       "1 2010-02-28 00:00:00+00:00             55"
      ]
     },
     "execution_count": 17,
     "metadata": {},
     "output_type": "execute_result"
    }
   ],
   "source": [
    "def get_case_arrival(df, freq = 'W'):\n",
    "\n",
    "    # Sort data by 'case:concept:name' and 'time:timestamp' to ensure the first event is at the top\n",
    "    df = df.sort_values(by=['case:concept:name', 'start_timestamp'])\n",
    "\n",
    "    # Identify the first event for each case (arriving cases)\n",
    "    # This can be the first event in the sequence for each 'case:concept:name'\n",
    "    arriving_cases = df.drop_duplicates(subset=['case:concept:name'], keep='first')\n",
    "\n",
    "    # Set 'time:timestamp' as the index for resampling\n",
    "    arriving_cases = arriving_cases.set_index('start_timestamp')\n",
    "\n",
    "    # Resample and count the number of arrivals per time period\n",
    "    arrival_count_resampled = arriving_cases.resample(freq).size()\n",
    "\n",
    "    # Convert the result to a DataFrame for easier handling\n",
    "    arrival_count_df = arrival_count_resampled.reset_index(name='Arrival Count')\n",
    "\n",
    "    return arrival_count_df\n",
    "\n",
    "arrival_count_df = get_case_arrival(log, freq = 'M')\n",
    "arrival_count_df.head(2)"
   ]
  },
  {
   "cell_type": "code",
   "execution_count": 18,
   "metadata": {},
   "outputs": [],
   "source": [
    "\n",
    "def plot_case_metrics(arrival_count_df, drift_time, marker_interval=4):\n",
    "    # Font sizes for labels, title, ticks, and legend\n",
    "    label_fontsize = 18\n",
    "    title_fontsize = 20\n",
    "    tick_fontsize = 16\n",
    "    legend_fontsize = 16\n",
    "    # figsize = (10, 4.5)\n",
    "    figsize = (8, 3.5)\n",
    "    linewidth = 3  \n",
    "    dpi = 600\n",
    "\n",
    "    # Create a figure and axis\n",
    "    fig, ax1 = plt.subplots(figsize=figsize)\n",
    "\n",
    "    # Define the time points for training and test logs\n",
    "    time_train_end = pd.Timestamp('2012-03-29 15:31:13+0000', tz='UTC')\n",
    "    # time_train_end = pd.Timestamp('2011-12-13 15:31:13+0000', tz='UTC')\n",
    "    time_test_post_end = pd.Timestamp('2013-11-06 10:47:35+0000', tz='UTC')\n",
    "\n",
    "    # Light grey area to the left of the drift_time\n",
    "    ax1.axvspan(arrival_count_df['start_timestamp'].min(), time_train_end, color='lightgrey', alpha=0.2)\n",
    "\n",
    "    # Dark grey area before drift_time\n",
    "    ax1.axvspan(time_train_end, drift_time + pd.Timedelta(seconds=5), color='gray', alpha=0.4)\n",
    "\n",
    "    # Dark grey area after drift_time\n",
    "    ax1.axvspan(drift_time + pd.Timedelta(seconds=5), time_test_post_end, color='gray', alpha=0.6)\n",
    "\n",
    "    # Plot the case arrivals on the first y-axis without markers\n",
    "    ax1.set_xlabel('Dates', fontsize=label_fontsize, color='black')\n",
    "    ax1.set_ylabel('Case arrivals', fontsize=label_fontsize, color='black')\n",
    "    arrival_line, = ax1.plot(arrival_count_df['start_timestamp'], arrival_count_df['Arrival Count'],\n",
    "                             color='tab:blue', label='Case arrivals', linewidth=linewidth)\n",
    "\n",
    "    ax1.tick_params(axis='y', labelcolor='black', labelsize=tick_fontsize)\n",
    "    ax1.tick_params(axis='x', labelcolor='black', labelsize=tick_fontsize)\n",
    "\n",
    "\n",
    "    # Add vertical line for drift time with the set line width\n",
    "    ax1.axvline(drift_time, color='red', linestyle='--', linewidth=linewidth)  # Drift point\n",
    "\n",
    "    # Add an arrow pointing horizontally to the drift time line with a label\n",
    "    adjustment = pd.Timedelta(seconds=1) \n",
    "    ax1.annotate('Drift\\npoint', \n",
    "             xy=(drift_time, ax1.get_ylim()[0] + 28),  \n",
    "             xytext=(drift_time - pd.Timedelta(weeks=35), ax1.get_ylim()[0] + 28),  \n",
    "             arrowprops=dict(facecolor='black', arrowstyle='-|>', linewidth=2),  \n",
    "             fontsize=legend_fontsize, color='red', va='center', ha='right')  \n",
    "\n",
    "    textfields_y_offset = ax1.get_ylim()[1] + 22\n",
    "    # Add text fields for \"Training log\" and \"Test log\" inside the grey boxes\n",
    "    ax1.text(time_train_end - pd.Timedelta(weeks=54),  \n",
    "             textfields_y_offset , \n",
    "             'Training log', \n",
    "             fontsize=legend_fontsize-1, color='black', ha='center', va='center', fontweight='bold')\n",
    "\n",
    "    ax1.text(drift_time - pd.Timedelta(weeks=10),  # Slightly before the end of the last grey box\n",
    "             textfields_y_offset,  # Positioning it inside the grey box at the bottom\n",
    "             'Test log\\n(pre-drift)', \n",
    "             fontsize=legend_fontsize-1, color='black', ha='center', va='center', fontweight='bold')\n",
    "    \n",
    "    ax1.text(time_test_post_end - pd.Timedelta(weeks=28),  # Slightly before the end of the last grey box\n",
    "             textfields_y_offset,  # Positioning it inside the grey box at the bottom\n",
    "             'Test log\\n(post-drift)', \n",
    "             fontsize=legend_fontsize-1, color='black', ha='center', va='center', fontweight='bold')\n",
    "\n",
    "    # Enable grid for both axes:\n",
    "    ax1.grid(True, axis='both')  # Horizontal and vertical grid lines for ax1\n",
    "\n",
    "    # Set x-ticks to display every second label\n",
    "    x_ticks = ax1.get_xticks()\n",
    "    ax1.set_xticks(x_ticks[::2])  # Display every second tick\n",
    "\n",
    "    fig.tight_layout()\n",
    "\n",
    "    # Save the plot\n",
    "    figure_name = 't1_help_desk.pdf'\n",
    "    output_path = os.path.join('..', 'figures', figure_name)\n",
    "    plt.savefig(output_path, dpi=dpi, format='pdf', bbox_inches='tight')\n",
    "\n",
    "    plt.show()\n"
   ]
  },
  {
   "cell_type": "markdown",
   "metadata": {},
   "source": [
    "#### Investigation"
   ]
  },
  {
   "cell_type": "code",
   "execution_count": 19,
   "metadata": {},
   "outputs": [
    {
     "data": {
      "image/png": "[encoded data removed]",
      "text/plain": [
       "<Figure size 800x350 with 1 Axes>"
      ]
     },
     "metadata": {},
     "output_type": "display_data"
    }
   ],
   "source": [
    "drift_time = pd.to_datetime('2012-08-04 00:00:00', utc=True)\n",
    "plot_case_metrics(arrival_count_df, drift_time)"
   ]
  },
  {
   "cell_type": "markdown",
   "metadata": {},
   "source": [
    "## Split log \n",
    "into training and test log for simulation purposes.\n",
    "\n",
    "- (i) Pre-drift only: We split the pre-drift log into a train (80% of cases) and test\n",
    "log (20%), so that we train and evaluate the model only on pre-drift data.\n",
    "- (ii) Across drift: We evaluate the simulation model from scenario (i) against a\n",
    "test log from the post-drift sub-log (of the same size as the test log in (i))."
   ]
  },
  {
   "cell_type": "code",
   "execution_count": 20,
   "metadata": {},
   "outputs": [],
   "source": [
    "# remove unnecessary columns from the log\n",
    "log = log[['concept:name', 'org:resource', 'Activity', 'Resource', 'case:concept:name',\n",
    "       'case:variant', 'case:variant-index', 'case:creator', 'start_timestamp',\n",
    "       'end_timestamp']]\n"
   ]
  },
  {
   "cell_type": "code",
   "execution_count": 21,
   "metadata": {},
   "outputs": [],
   "source": [
    "# First, split log into two sublogs by intermediate split at drift point\n",
    "date_obj = pd.to_datetime('2012-08-04 00:00:00', utc=True)\n",
    "criterium_value = date_obj\n",
    "hd_h1, hd_h2 = intermediate_cut(log, log_ids, criterium_value, cut_criterium='timestamp', one_timestamp=False, key_timestamp=log_ids.start_time)"
   ]
  },
  {
   "cell_type": "code",
   "execution_count": 22,
   "metadata": {},
   "outputs": [],
   "source": [
    "# Second, create train and test split of first sublog\n",
    "# separate 80% of the cases for the training from 20% for the test log. Then remove traces that overlap the splitting point from the trianing log to keep the 20 % for testing\n",
    "criterium_value = 80\n",
    "hd_h1_train, hd_h1_test = intermediate_cut(hd_h1, log_ids, criterium_value, cut_criterium='nr_cases', one_timestamp=False, key_timestamp=log_ids.start_time)"
   ]
  },
  {
   "cell_type": "code",
   "execution_count": 23,
   "metadata": {},
   "outputs": [
    {
     "name": "stdout",
     "output_type": "stream",
     "text": [
      "689\n"
     ]
    },
    {
     "data": {
      "text/plain": [
       "86.34065420560748"
      ]
     },
     "execution_count": 23,
     "metadata": {},
     "output_type": "execute_result"
    }
   ],
   "source": [
    "# Nr test cases in first sublog.\n",
    "nr_test_cases = hd_h1_test['case:concept:name'].nunique()\n",
    "print(nr_test_cases)\n",
    "\n",
    "# Make this as a first \n",
    "nr_cases_hd_h2 = hd_h2['case:concept:name'].nunique()\n",
    "criterium_value = nr_test_cases/nr_cases_hd_h2 * 100 + 5.85\n",
    "# criterium_value = nr_test_cases/nr_cases_hd_h2 * 100 + 7.593456\n",
    "criterium_value "
   ]
  },
  {
   "cell_type": "code",
   "execution_count": 24,
   "metadata": {},
   "outputs": [],
   "source": [
    "# Third, create train and test split of first sublog\n",
    "hd_h2_train, hd_h2_test = intermediate_cut(hd_h2, log_ids, criterium_value, cut_criterium='nr_cases', one_timestamp=False, key_timestamp=log_ids.start_time)"
   ]
  },
  {
   "cell_type": "code",
   "execution_count": 25,
   "metadata": {},
   "outputs": [
    {
     "data": {
      "text/plain": [
       "690"
      ]
     },
     "execution_count": 25,
     "metadata": {},
     "output_type": "execute_result"
    }
   ],
   "source": [
    "hd_h2_train['case:concept:name'].nunique()"
   ]
  },
  {
   "cell_type": "code",
   "execution_count": 26,
   "metadata": {},
   "outputs": [
    {
     "name": "stdout",
     "output_type": "stream",
     "text": [
      "write_out_logs: True\n"
     ]
    }
   ],
   "source": [
    "write_out_logs = True\n",
    "print('write_out_logs:', write_out_logs)\n",
    "if write_out_logs:\n",
    "    \n",
    "    # Simulation scenario 1: pre-drift only\n",
    "    path_h1 = os.path.join(target_dir_path, 'helpdesk_h1')\n",
    "    os.makedirs(path_h1, exist_ok=True)\n",
    "    hd_h1_train.to_csv( os.path.join(path_h1, 'train_log.csv'), index=False)\n",
    "    hd_h1_test.to_csv(  os.path.join(path_h1, 'test_log.csv'), index=False)\n",
    "    \n",
    "    # Simulation scenario 2: across drift\n",
    "    path_h1_2 = os.path.join(target_dir_path, 'helpdesk_h1_2')\n",
    "    os.makedirs(path_h1_2, exist_ok=True)\n",
    "    hd_h1_train.to_csv( os.path.join(path_h1_2, 'train_log.csv'), index=False)\n",
    "    # Use the train log (the first part of h2) as test log in this simulation scenario\n",
    "    hd_h2_train.to_csv(  os.path.join(path_h1_2, 'test_log.csv'),  index=False)\n"
   ]
  },
  {
   "cell_type": "markdown",
   "metadata": {},
   "source": [
    "### Printing AgentSimulator execution commands"
   ]
  },
  {
   "cell_type": "code",
   "execution_count": 27,
   "metadata": {},
   "outputs": [],
   "source": [
    "\n",
    "log_name = 'helpdesk'\n",
    "log_paths = ['threats/helpdesk_two_scenarios/helpdesk_h1', 'threats/helpdesk_two_scenarios/helpdesk_h1_2']\n",
    "columns = {}\n",
    "columns[log_name] = {\n",
    "    'case_id': 'case:concept:name',\n",
    "    'activity_name': 'concept:name',\n",
    "    'resource_name': 'org:resource',\n",
    "    'end_timestamp': 'end_timestamp',\n",
    "    'start_timestamp': 'start_timestamp'\n",
    "}"
   ]
  },
  {
   "cell_type": "code",
   "execution_count": 28,
   "metadata": {},
   "outputs": [
    {
     "name": "stdout",
     "output_type": "stream",
     "text": [
      "python MAS_Simulation_wucd.py         --train_path input_data/threats/helpdesk_two_scenarios/helpdesk_h1/train_log.csv --test_path input_data/threats/helpdesk_two_scenarios/helpdesk_h1/test_log.csv --case_id case:concept:name --activity_name concept:name         --resource_name org:resource --end_timestamp end_timestamp --start_timestamp start_timestamp         --warm_up_system False --cool_down_system False \n",
      "python MAS_Simulation_wucd.py         --train_path input_data/threats/helpdesk_two_scenarios/helpdesk_h1_2/train_log.csv --test_path input_data/threats/helpdesk_two_scenarios/helpdesk_h1_2/test_log.csv --case_id case:concept:name --activity_name concept:name         --resource_name org:resource --end_timestamp end_timestamp --start_timestamp start_timestamp         --warm_up_system False --cool_down_system False \n"
     ]
    }
   ],
   "source": [
    "for log_path in log_paths:\n",
    "    cmd =    f'''python MAS_Simulation_wucd.py \\\n",
    "        --train_path input_data/{log_path}/train_log.csv --test_path input_data/{log_path}/test_log.csv --case_id {columns[log_name]['case_id']} --activity_name {columns[log_name]['activity_name']} \\\n",
    "        --resource_name {columns[log_name]['resource_name']} --end_timestamp {columns[log_name]['end_timestamp']} --start_timestamp {columns[log_name]['start_timestamp']} \\\n",
    "        --warm_up_system False --cool_down_system False '''\n",
    "    print(cmd)\n"
   ]
  },
  {
   "cell_type": "code",
   "execution_count": null,
   "metadata": {},
   "outputs": [],
   "source": []
  }
 ],
 "metadata": {
  "kernelspec": {
   "display_name": "bps_evaluation",
   "language": "python",
   "name": "python3"
  },
  "language_info": {
   "codemirror_mode": {
    "name": "ipython",
    "version": 3
   },
   "file_extension": ".py",
   "mimetype": "text/x-python",
   "name": "python",
   "nbconvert_exporter": "python",
   "pygments_lexer": "ipython3",
   "version": "3.11.8"
  }
 },
 "nbformat": 4,
 "nbformat_minor": 2
}
